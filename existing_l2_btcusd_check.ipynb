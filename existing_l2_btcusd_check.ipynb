{
 "cells": [
  {
   "cell_type": "code",
   "execution_count": 61,
   "metadata": {},
   "outputs": [],
   "source": [
    "## L2\n",
    "# High resolution existing tick data/historial orderbook data for BTC \n",
    "    # http://api.bitcoincharts.com/v1/csv/\n",
    "# Not free/rate limited:\n",
    "    # https://www.coinapi.io/Pricing \n",
    "        # 100 requests / day"
   ]
  },
  {
   "cell_type": "code",
   "execution_count": 65,
   "metadata": {},
   "outputs": [],
   "source": [
    "import pandas as pd\n",
    "import numpy as np\n",
    "# import time\n",
    "# from multiprocessing import Pool"
   ]
  },
  {
   "cell_type": "code",
   "execution_count": 66,
   "metadata": {},
   "outputs": [],
   "source": [
    "# Source: http://api.bitcoincharts.com/v1/csv/\n",
    "# Add script/func to download/check presence of (optional)\n",
    "filename = \"data/raw_data_external/coinbaseUSD_11212019.csv\""
   ]
  },
  {
   "cell_type": "code",
   "execution_count": 67,
   "metadata": {},
   "outputs": [],
   "source": [
    "df = pd.read_csv(filename,names=[\"Date\",\"Price\",\"Size\"])"
   ]
  },
  {
   "cell_type": "code",
   "execution_count": 68,
   "metadata": {},
   "outputs": [
    {
     "name": "stdout",
     "output_type": "stream",
     "text": [
      "<class 'pandas.core.frame.DataFrame'>\n",
      "RangeIndex: 56615868 entries, 0 to 56615867\n",
      "Data columns (total 3 columns):\n",
      "Date     int64\n",
      "Price    float64\n",
      "Size     float64\n",
      "dtypes: float64(2), int64(1)\n",
      "memory usage: 1.3 GB\n"
     ]
    }
   ],
   "source": [
    "df.info()"
   ]
  },
  {
   "cell_type": "code",
   "execution_count": 69,
   "metadata": {},
   "outputs": [
    {
     "data": {
      "text/plain": [
       "56615868"
      ]
     },
     "execution_count": 69,
     "metadata": {},
     "output_type": "execute_result"
    }
   ],
   "source": [
    "# Retrive number of rows\n",
    "row_count = df.shape[0]\n",
    "row_count"
   ]
  },
  {
   "cell_type": "code",
   "execution_count": 70,
   "metadata": {},
   "outputs": [
    {
     "data": {
      "text/plain": [
       "28307934.0"
      ]
     },
     "execution_count": 70,
     "metadata": {},
     "output_type": "execute_result"
    }
   ],
   "source": [
    "row_count/2"
   ]
  },
  {
   "cell_type": "code",
   "execution_count": 76,
   "metadata": {},
   "outputs": [
    {
     "data": {
      "text/plain": [
       "14153967.0"
      ]
     },
     "execution_count": 76,
     "metadata": {},
     "output_type": "execute_result"
    }
   ],
   "source": [
    "row_count/4"
   ]
  },
  {
   "cell_type": "code",
   "execution_count": 90,
   "metadata": {},
   "outputs": [
    {
     "data": {
      "text/plain": [
       "7076983.5"
      ]
     },
     "execution_count": 90,
     "metadata": {},
     "output_type": "execute_result"
    }
   ],
   "source": [
    "row_count/8"
   ]
  },
  {
   "cell_type": "code",
   "execution_count": 88,
   "metadata": {},
   "outputs": [
    {
     "data": {
      "text/plain": [
       "1572663.0"
      ]
     },
     "execution_count": 88,
     "metadata": {},
     "output_type": "execute_result"
    }
   ],
   "source": [
    "row_count/36"
   ]
  },
  {
   "cell_type": "code",
   "execution_count": 71,
   "metadata": {},
   "outputs": [
    {
     "data": {
      "text/html": [
       "<div>\n",
       "<style scoped>\n",
       "    .dataframe tbody tr th:only-of-type {\n",
       "        vertical-align: middle;\n",
       "    }\n",
       "\n",
       "    .dataframe tbody tr th {\n",
       "        vertical-align: top;\n",
       "    }\n",
       "\n",
       "    .dataframe thead th {\n",
       "        text-align: right;\n",
       "    }\n",
       "</style>\n",
       "<table border=\"1\" class=\"dataframe\">\n",
       "  <thead>\n",
       "    <tr style=\"text-align: right;\">\n",
       "      <th></th>\n",
       "      <th>Date</th>\n",
       "      <th>Price</th>\n",
       "      <th>Size</th>\n",
       "    </tr>\n",
       "  </thead>\n",
       "  <tbody>\n",
       "    <tr>\n",
       "      <td>0</td>\n",
       "      <td>1417412036</td>\n",
       "      <td>300.0</td>\n",
       "      <td>0.010000</td>\n",
       "    </tr>\n",
       "    <tr>\n",
       "      <td>1</td>\n",
       "      <td>1417412423</td>\n",
       "      <td>300.0</td>\n",
       "      <td>0.010000</td>\n",
       "    </tr>\n",
       "    <tr>\n",
       "      <td>2</td>\n",
       "      <td>1417415048</td>\n",
       "      <td>370.0</td>\n",
       "      <td>0.010000</td>\n",
       "    </tr>\n",
       "    <tr>\n",
       "      <td>3</td>\n",
       "      <td>1417416612</td>\n",
       "      <td>370.0</td>\n",
       "      <td>0.026556</td>\n",
       "    </tr>\n",
       "    <tr>\n",
       "      <td>4</td>\n",
       "      <td>1417498166</td>\n",
       "      <td>377.0</td>\n",
       "      <td>0.010000</td>\n",
       "    </tr>\n",
       "  </tbody>\n",
       "</table>\n",
       "</div>"
      ],
      "text/plain": [
       "         Date  Price      Size\n",
       "0  1417412036  300.0  0.010000\n",
       "1  1417412423  300.0  0.010000\n",
       "2  1417415048  370.0  0.010000\n",
       "3  1417416612  370.0  0.026556\n",
       "4  1417498166  377.0  0.010000"
      ]
     },
     "execution_count": 71,
     "metadata": {},
     "output_type": "execute_result"
    }
   ],
   "source": [
    "df.head()"
   ]
  },
  {
   "cell_type": "code",
   "execution_count": 72,
   "metadata": {},
   "outputs": [],
   "source": [
    "filename_hdf5=\"data/raw_data_external/coinbaseUSD_11212019.hdf5\""
   ]
  },
  {
   "cell_type": "code",
   "execution_count": 73,
   "metadata": {},
   "outputs": [],
   "source": [
    "df.to_hdf(filename, 'data', mode='w', format='table')"
   ]
  },
  {
   "cell_type": "code",
   "execution_count": 115,
   "metadata": {},
   "outputs": [],
   "source": [
    "# DF ---> compressed HDF5\n",
    "    # https://www.hdfgroup.org/2018/06/hdf5-or-how-i-learned-to-love-data-compression-and-partial-i-o/\n",
    "compressors = ['blosc', 'bzip2', 'zlib']\n",
    "dset = df.to_hdf(filename_hdf5, 'data', mode='w', format='table', complevel=9, complib=compressors[0])\n"
   ]
  },
  {
   "cell_type": "code",
   "execution_count": 116,
   "metadata": {},
   "outputs": [],
   "source": [
    "df = pd.read_hdf(filename_hdf5, 'data')"
   ]
  },
  {
   "cell_type": "code",
   "execution_count": 117,
   "metadata": {},
   "outputs": [],
   "source": [
    "dset = pd.read_hdf(filename_hdf5, 'data')"
   ]
  },
  {
   "cell_type": "code",
   "execution_count": 75,
   "metadata": {},
   "outputs": [
    {
     "data": {
      "text/html": [
       "<div>\n",
       "<style scoped>\n",
       "    .dataframe tbody tr th:only-of-type {\n",
       "        vertical-align: middle;\n",
       "    }\n",
       "\n",
       "    .dataframe tbody tr th {\n",
       "        vertical-align: top;\n",
       "    }\n",
       "\n",
       "    .dataframe thead th {\n",
       "        text-align: right;\n",
       "    }\n",
       "</style>\n",
       "<table border=\"1\" class=\"dataframe\">\n",
       "  <thead>\n",
       "    <tr style=\"text-align: right;\">\n",
       "      <th></th>\n",
       "      <th>Date</th>\n",
       "      <th>Price</th>\n",
       "      <th>Size</th>\n",
       "    </tr>\n",
       "  </thead>\n",
       "  <tbody>\n",
       "    <tr>\n",
       "      <td>0</td>\n",
       "      <td>1417412036</td>\n",
       "      <td>300.00</td>\n",
       "      <td>0.010000</td>\n",
       "    </tr>\n",
       "    <tr>\n",
       "      <td>1</td>\n",
       "      <td>1417412423</td>\n",
       "      <td>300.00</td>\n",
       "      <td>0.010000</td>\n",
       "    </tr>\n",
       "    <tr>\n",
       "      <td>2</td>\n",
       "      <td>1417415048</td>\n",
       "      <td>370.00</td>\n",
       "      <td>0.010000</td>\n",
       "    </tr>\n",
       "    <tr>\n",
       "      <td>3</td>\n",
       "      <td>1417416612</td>\n",
       "      <td>370.00</td>\n",
       "      <td>0.026556</td>\n",
       "    </tr>\n",
       "    <tr>\n",
       "      <td>4</td>\n",
       "      <td>1417498166</td>\n",
       "      <td>377.00</td>\n",
       "      <td>0.010000</td>\n",
       "    </tr>\n",
       "    <tr>\n",
       "      <td>...</td>\n",
       "      <td>...</td>\n",
       "      <td>...</td>\n",
       "      <td>...</td>\n",
       "    </tr>\n",
       "    <tr>\n",
       "      <td>56615863</td>\n",
       "      <td>1546898809</td>\n",
       "      <td>4006.00</td>\n",
       "      <td>0.075851</td>\n",
       "    </tr>\n",
       "    <tr>\n",
       "      <td>56615864</td>\n",
       "      <td>1546898812</td>\n",
       "      <td>4006.00</td>\n",
       "      <td>0.011925</td>\n",
       "    </tr>\n",
       "    <tr>\n",
       "      <td>56615865</td>\n",
       "      <td>1546898814</td>\n",
       "      <td>4005.55</td>\n",
       "      <td>0.075016</td>\n",
       "    </tr>\n",
       "    <tr>\n",
       "      <td>56615866</td>\n",
       "      <td>1546898815</td>\n",
       "      <td>4005.99</td>\n",
       "      <td>0.012919</td>\n",
       "    </tr>\n",
       "    <tr>\n",
       "      <td>56615867</td>\n",
       "      <td>1546898819</td>\n",
       "      <td>4005.99</td>\n",
       "      <td>0.025079</td>\n",
       "    </tr>\n",
       "  </tbody>\n",
       "</table>\n",
       "<p>56615868 rows × 3 columns</p>\n",
       "</div>"
      ],
      "text/plain": [
       "                Date    Price      Size\n",
       "0         1417412036   300.00  0.010000\n",
       "1         1417412423   300.00  0.010000\n",
       "2         1417415048   370.00  0.010000\n",
       "3         1417416612   370.00  0.026556\n",
       "4         1417498166   377.00  0.010000\n",
       "...              ...      ...       ...\n",
       "56615863  1546898809  4006.00  0.075851\n",
       "56615864  1546898812  4006.00  0.011925\n",
       "56615865  1546898814  4005.55  0.075016\n",
       "56615866  1546898815  4005.99  0.012919\n",
       "56615867  1546898819  4005.99  0.025079\n",
       "\n",
       "[56615868 rows x 3 columns]"
      ]
     },
     "execution_count": 75,
     "metadata": {},
     "output_type": "execute_result"
    }
   ],
   "source": [
    "df"
   ]
  },
  {
   "cell_type": "code",
   "execution_count": 101,
   "metadata": {},
   "outputs": [],
   "source": [
    "# !echo 'data/raw_data_external/coinbaseUSD_11212019.csv' >> .gitignore\n"
   ]
  },
  {
   "cell_type": "code",
   "execution_count": 96,
   "metadata": {},
   "outputs": [
    {
     "data": {
      "text/plain": [
       "14153967"
      ]
     },
     "execution_count": 96,
     "metadata": {},
     "output_type": "execute_result"
    }
   ],
   "source": [
    "row_split_count = int(row_count/4)\n",
    "row_split_count"
   ]
  },
  {
   "cell_type": "code",
   "execution_count": 118,
   "metadata": {},
   "outputs": [],
   "source": [
    "!split -l 14153967 -d \"data/raw_data_external/coinbaseUSD_11212019.csv\" \"data/raw_data_external/\"\n",
    "\n",
    "#00,01,02,03 is split\n",
    "\n",
    "#!echo 'data/raw_data_external/coinbaseUSD_11212019.hdf5' >> .gitignore"
   ]
  },
  {
   "cell_type": "code",
   "execution_count": 108,
   "metadata": {},
   "outputs": [],
   "source": [
    "# df_chunk0 = pd.read_csv(\"data/raw_data_external/00\")\n",
    "# df_chunk1 = pd.read_csv(\"data/raw_data_external/01\")\n",
    "# df_chunk2 = pd.read_csv(\"data/raw_data_external/02\")\n",
    "# df_chunk3 = pd.read_csv(\"data/raw_data_external/03\")"
   ]
  },
  {
   "cell_type": "code",
   "execution_count": 109,
   "metadata": {},
   "outputs": [],
   "source": [
    "# df_chunk0 = df_chunk0.to_hdf(\"data/raw_data_external/00.hdf5\", 'data', mode='w', format='table')\n",
    "# df_chunk1 = df_chunk1.to_hdf(\"data/raw_data_external/01.hdf5\", 'data', mode='w', format='table')\n",
    "# df_chunk2 = df_chunk2.to_hdf(\"data/raw_data_external/02.hdf5\", 'data', mode='w', format='table')\n",
    "# df_chunk3 = df_chunk3.to_hdf(\"data/raw_data_external/03.hdf5\", 'data', mode='w', format='table')"
   ]
  },
  {
   "cell_type": "code",
   "execution_count": null,
   "metadata": {},
   "outputs": [],
   "source": [
    "# for i,chunk in enumerate(pd.read_csv('d', chunksize=500000)):\n",
    "#     chunk.to_csv('chunk{}.csv'.format(i), index='False')"
   ]
  },
  {
   "cell_type": "code",
   "execution_count": null,
   "metadata": {},
   "outputs": [],
   "source": []
  },
  {
   "cell_type": "code",
   "execution_count": null,
   "metadata": {},
   "outputs": [],
   "source": [
    "## Non-L2/Historical OHLC\n",
    "# Kaggle dataset for all token historical prices 04-28-2013 to 05-21-2018\n",
    "# https://www.kaggle.com/jessevent/all-crypto-currencies"
   ]
  }
 ],
 "metadata": {
  "kernelspec": {
   "display_name": "Python 3",
   "language": "python",
   "name": "python3"
  },
  "language_info": {
   "codemirror_mode": {
    "name": "ipython",
    "version": 3
   },
   "file_extension": ".py",
   "mimetype": "text/x-python",
   "name": "python",
   "nbconvert_exporter": "python",
   "pygments_lexer": "ipython3",
   "version": "3.7.4"
  }
 },
 "nbformat": 4,
 "nbformat_minor": 4
}
